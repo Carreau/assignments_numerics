{
 "cells": [
  {
   "cell_type": "markdown",
   "metadata": {},
   "source": [
    "# Assignment 4"
   ]
  },
  {
   "cell_type": "code",
   "execution_count": null,
   "metadata": {},
   "outputs": [],
   "source": []
  },
  {
   "cell_type": "markdown",
   "metadata": {},
   "source": [
    "## Exercise 1"
   ]
  },
  {
   "cell_type": "code",
   "execution_count": 34,
   "metadata": {},
   "outputs": [],
   "source": [
    "%matplotlib inline\n",
    "from matplotlib import pyplot as plt\n",
    "import numpy as np\n",
    "import sympy as sp\n",
    "from numpy import sin"
   ]
  },
  {
   "cell_type": "code",
   "execution_count": 58,
   "metadata": {},
   "outputs": [],
   "source": [
    "def euler_timestep(f, a, b, α, N):\n",
    "    '''\n",
    "    function that approximates an Initial Value Problem (IVP) y' = f(y,t), \n",
    "    for t from a to b with y(a) = α, using Euler's method\n",
    "    \n",
    "    Parameters\n",
    "    ==========\n",
    "    f: function in IVP\n",
    "    a: float number, lower bound time interval\n",
    "    b: float number, upper bound time interval\n",
    "    α: float number, initial condition of the IVP at t = a\n",
    "    N: integer, number of subintervals\n",
    "    \n",
    "    Returns\n",
    "    =======\n",
    "    The solution y, as an array of values\n",
    "    The sampled time t, as an array of values\n",
    "    '''\n",
    "    Δt = (b-a)/ N\n",
    "    t = [a + i * Δt for i in range(N+1)] #careful in range, the endpoint is excluded\n",
    "\n",
    "    y = [α]\n",
    "    for i in range(1, N+1):\n",
    "        y.append(y[i-1] + Δt * f(y[i-1], t[i-1]))\n",
    "    return y, t\n"
   ]
  },
  {
   "cell_type": "code",
   "execution_count": 50,
   "metadata": {},
   "outputs": [],
   "source": [
    "f = lambda y, t: (sin(2*t) -2*y*t)/ t**2\n",
    "a = 1\n",
    "b = 5\n",
    "α = 2\n",
    "NR = [10, 50, 100, 500]"
   ]
  },
  {
   "cell_type": "code",
   "execution_count": 51,
   "metadata": {},
   "outputs": [],
   "source": [
    "from sympy import dsolve, solve\n",
    "from sympy.abc import s, y\n",
    "from sympy import Derivative"
   ]
  },
  {
   "cell_type": "code",
   "execution_count": 52,
   "metadata": {},
   "outputs": [
    {
     "data": {
      "text/plain": [
       "0.0884584938505862"
      ]
     },
     "execution_count": 52,
     "metadata": {},
     "output_type": "execute_result"
    }
   ],
   "source": [
    "eq = dsolve(Derivative(y(s),s) - (sp.sin(2*s) - 2*y(s)*s)/s**2, ics = {y(1): 2}) \n",
    "sol = eq.rhs\n",
    "cst = solve([sol.subs(s,1)-2])\n",
    "exact = eq.subs(cst)\n",
    "final_solu = lambda u: float(exact.rhs.subs(s,u).evalf())\n",
    "final_solu(5)"
   ]
  },
  {
   "cell_type": "code",
   "execution_count": null,
   "metadata": {},
   "outputs": [],
   "source": []
  },
  {
   "cell_type": "code",
   "execution_count": 53,
   "metadata": {},
   "outputs": [
    {
     "data": {
      "text/plain": [
       "<matplotlib.legend.Legend at 0x11f0efd30>"
      ]
     },
     "execution_count": 53,
     "metadata": {},
     "output_type": "execute_result"
    },
    {
     "data": {
      "image/png": "[encoded data removed]",
      "text/plain": [
       "<matplotlib.figure.Figure at 0x11f0f7048>"
      ]
     },
     "metadata": {},
     "output_type": "display_data"
    }
   ],
   "source": [
    "result = {}\n",
    "fig, (ax1, ax2) = plt.subplots(1, 2)\n",
    "for N in NR:\n",
    "    result[N] = euler_timestep(f, a, b, α, N)\n",
    "    y,t = result[N]\n",
    "    # t is a list not an array\n",
    "    #import pdb; pdb.set_trace()\n",
    "    exact_II = [final_solu(w) for w in t]\n",
    "    ax1.plot(t,y, label = f' Result for {N}')\n",
    "ax1.plot(t, exact_II,'--', label = 'exact solution')\n",
    "ax1.legend()\n",
    "\n",
    "# abs(k-kk) for (k,kk) in zip(y, exact_II)\n",
    "\n",
    "ax2.loglog(NR, [ abs(result[k][0][-1]-final_solu(5)) for k in NR],  '--+',  label = 'Error plot',)\n",
    "ax2.legend()"
   ]
  },
  {
   "cell_type": "code",
   "execution_count": null,
   "metadata": {},
   "outputs": [],
   "source": []
  },
  {
   "cell_type": "code",
   "execution_count": null,
   "metadata": {},
   "outputs": [],
   "source": []
  },
  {
   "cell_type": "markdown",
   "metadata": {},
   "source": [
    "## Assessments"
   ]
  },
  {
   "cell_type": "code",
   "execution_count": 54,
   "metadata": {},
   "outputs": [],
   "source": [
    "assert len(euler_timestep.__doc__) >0"
   ]
  },
  {
   "cell_type": "code",
   "execution_count": 55,
   "metadata": {},
   "outputs": [],
   "source": [
    "assert 'f:' in euler_timestep.__doc__"
   ]
  },
  {
   "cell_type": "code",
   "execution_count": 56,
   "metadata": {},
   "outputs": [],
   "source": [
    "\n",
    "def data():\n",
    "    f = lambda y, t: 1   \n",
    "    a = 1\n",
    "    b = 5\n",
    "    α = 2\n",
    "    y, t = euler_timestep(f, a, b, α, N)\n",
    "    \n",
    "    assert min(y) == 2\n",
    "    assert max(y) == 6, f'max(y) == {max(y)} instead of 6'\n",
    "\n"
   ]
  },
  {
   "cell_type": "code",
   "execution_count": 57,
   "metadata": {},
   "outputs": [
    {
     "ename": "AssertionError",
     "evalue": "max(y) == 6.008016032064021 instead of 6",
     "output_type": "error",
     "traceback": [
      "\u001b[0;31m---------------------------------------------------------------------------\u001b[0m",
      "\u001b[0;31mAssertionError\u001b[0m                            Traceback (most recent call last)",
      "\u001b[0;32m<ipython-input-57-a28c71a07a91>\u001b[0m in \u001b[0;36m<module>\u001b[0;34m()\u001b[0m\n\u001b[0;32m----> 1\u001b[0;31m \u001b[0mdata\u001b[0m\u001b[0;34m(\u001b[0m\u001b[0;34m)\u001b[0m\u001b[0;34m\u001b[0m\u001b[0m\n\u001b[0m",
      "\u001b[0;32m<ipython-input-56-8535429a09e7>\u001b[0m in \u001b[0;36mdata\u001b[0;34m()\u001b[0m\n\u001b[1;32m      8\u001b[0m \u001b[0;34m\u001b[0m\u001b[0m\n\u001b[1;32m      9\u001b[0m     \u001b[0;32massert\u001b[0m \u001b[0mmin\u001b[0m\u001b[0;34m(\u001b[0m\u001b[0my\u001b[0m\u001b[0;34m)\u001b[0m \u001b[0;34m==\u001b[0m \u001b[0;36m2\u001b[0m\u001b[0;34m\u001b[0m\u001b[0m\n\u001b[0;32m---> 10\u001b[0;31m     \u001b[0;32massert\u001b[0m \u001b[0mmax\u001b[0m\u001b[0;34m(\u001b[0m\u001b[0my\u001b[0m\u001b[0;34m)\u001b[0m \u001b[0;34m==\u001b[0m \u001b[0;36m6\u001b[0m\u001b[0;34m,\u001b[0m \u001b[0;34mf'max(y) == {max(y)} instead of 6'\u001b[0m\u001b[0;34m\u001b[0m\u001b[0m\n\u001b[0m\u001b[1;32m     11\u001b[0m \u001b[0;34m\u001b[0m\u001b[0m\n",
      "\u001b[0;31mAssertionError\u001b[0m: max(y) == 6.008016032064021 instead of 6"
     ]
    }
   ],
   "source": [
    "data()"
   ]
  },
  {
   "cell_type": "code",
   "execution_count": null,
   "metadata": {},
   "outputs": [],
   "source": []
  }
 ],
 "metadata": {
  "kernelspec": {
   "display_name": "Python [default]",
   "language": "python",
   "name": "python3"
  },
  "language_info": {
   "codemirror_mode": {
    "name": "ipython",
    "version": 3
   },
   "file_extension": ".py",
   "mimetype": "text/x-python",
   "name": "python",
   "nbconvert_exporter": "python",
   "pygments_lexer": "ipython3",
   "version": "3.6.4"
  }
 },
 "nbformat": 4,
 "nbformat_minor": 2
}
