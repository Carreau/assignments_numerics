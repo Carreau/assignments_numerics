{
 "cells": [
  {
   "cell_type": "markdown",
   "metadata": {},
   "source": [
    "# Assignment 3"
   ]
  },
  {
   "cell_type": "markdown",
   "metadata": {},
   "source": [
    "## Exercise 1"
   ]
  },
  {
   "cell_type": "code",
   "execution_count": 1,
   "metadata": {},
   "outputs": [],
   "source": [
    "%matplotlib inline\n",
    "import numpy as np\n",
    "from matplotlib import pyplot as plt\n"
   ]
  },
  {
   "cell_type": "code",
   "execution_count": 2,
   "metadata": {},
   "outputs": [],
   "source": [
    "def numerical_diff(f, x0, h, N):\n",
    "    '''\n",
    "    to do\n",
    "    N = number of points => different point formula\n",
    "    '''\n",
    "    if N == 2:\n",
    "        y = (f(x0+h) - f(x0))/h\n",
    "        return y\n",
    "    if N == 3:\n",
    "        y = (f(x0+h) - f(x0-h))/(2*h)\n",
    "        return y\n",
    "    if N == 5:\n",
    "        y = (-f(x0+2*h) + 8*f(x0+h) - 8*f(x0-h) + f(x0-2*h))/(12*h)\n",
    "        return y\n",
    "    else:\n",
    "        raise ValueError(f'N should be 2, 3 or 5, found {N}')\n",
    "        "
   ]
  },
  {
   "cell_type": "code",
   "execution_count": 5,
   "metadata": {},
   "outputs": [],
   "source": [
    "f = lambda x: (x**2 -3*x +2)*np.arctan(x)\n",
    "FD1 = numerical_diff(f, 0, 10**(-1), 2)\n",
    "FD3 = numerical_diff(f, 0, 10**(-3), 2)\n",
    "FD6 = numerical_diff(f, 0, 10**(-6), 2)\n",
    "\n",
    "CD31 = numerical_diff(f, 0, 10**(-1), 3)\n",
    "CD33 = numerical_diff(f, 0, 10**(-3), 3)\n",
    "CD36 = numerical_diff(f, 0, 10**(-6), 3)\n",
    "\n",
    "CD51 = numerical_diff(f, 0, 10**(-1), 5)\n",
    "CD53 = numerical_diff(f, 0, 10**(-3), 5)\n",
    "CD56 = numerical_diff(f, 0, 10**(-6), 5)\n"
   ]
  },
  {
   "cell_type": "code",
   "execution_count": 6,
   "metadata": {},
   "outputs": [
    {
     "ename": "ValueError",
     "evalue": "N should be 2, 3 or 5, found 4",
     "output_type": "error",
     "traceback": [
      "\u001b[0;31m---------------------------------------------------------------------------\u001b[0m",
      "\u001b[0;31mValueError\u001b[0m                                Traceback (most recent call last)",
      "\u001b[0;32m<ipython-input-6-37d1e03a8fcc>\u001b[0m in \u001b[0;36m<module>\u001b[0;34m()\u001b[0m\n\u001b[0;32m----> 1\u001b[0;31m \u001b[0mnumerical_diff\u001b[0m\u001b[0;34m(\u001b[0m\u001b[0mf\u001b[0m\u001b[0;34m,\u001b[0m \u001b[0;36m0\u001b[0m\u001b[0;34m,\u001b[0m \u001b[0;36m10\u001b[0m\u001b[0;34m**\u001b[0m\u001b[0;34m(\u001b[0m\u001b[0;34m-\u001b[0m\u001b[0;36m6\u001b[0m\u001b[0;34m)\u001b[0m\u001b[0;34m,\u001b[0m \u001b[0;36m4\u001b[0m\u001b[0;34m)\u001b[0m\u001b[0;34m\u001b[0m\u001b[0m\n\u001b[0m",
      "\u001b[0;32m<ipython-input-2-a64a5ae41450>\u001b[0m in \u001b[0;36mnumerical_diff\u001b[0;34m(f, x0, h, N)\u001b[0m\n\u001b[1;32m     14\u001b[0m         \u001b[0;32mreturn\u001b[0m \u001b[0my\u001b[0m\u001b[0;34m\u001b[0m\u001b[0m\n\u001b[1;32m     15\u001b[0m     \u001b[0;32melse\u001b[0m\u001b[0;34m:\u001b[0m\u001b[0;34m\u001b[0m\u001b[0m\n\u001b[0;32m---> 16\u001b[0;31m         \u001b[0;32mraise\u001b[0m \u001b[0mValueError\u001b[0m\u001b[0;34m(\u001b[0m\u001b[0;34mf'N should be 2, 3 or 5, found {N}'\u001b[0m\u001b[0;34m)\u001b[0m\u001b[0;34m\u001b[0m\u001b[0m\n\u001b[0m\u001b[1;32m     17\u001b[0m \u001b[0;34m\u001b[0m\u001b[0m\n",
      "\u001b[0;31mValueError\u001b[0m: N should be 2, 3 or 5, found 4"
     ]
    }
   ],
   "source": [
    "numerical_diff(f, 0, 10**(-6), 4)"
   ]
  },
  {
   "cell_type": "code",
   "execution_count": 7,
   "metadata": {},
   "outputs": [],
   "source": [
    "import sympy as sp\n"
   ]
  },
  {
   "cell_type": "code",
   "execution_count": 12,
   "metadata": {},
   "outputs": [],
   "source": [
    "from sympy import Symbol, atan"
   ]
  },
  {
   "cell_type": "code",
   "execution_count": 14,
   "metadata": {},
   "outputs": [],
   "source": [
    "xx = Symbol(\"x\")"
   ]
  },
  {
   "cell_type": "code",
   "execution_count": 26,
   "metadata": {},
   "outputs": [],
   "source": [
    "sp.init_printing() # put formulas in latex format"
   ]
  },
  {
   "cell_type": "code",
   "execution_count": 27,
   "metadata": {},
   "outputs": [],
   "source": [
    "ff = (xx**2 -3*xx +2)*atan(xx)"
   ]
  },
  {
   "cell_type": "code",
   "execution_count": 39,
   "metadata": {},
   "outputs": [],
   "source": [
    "from sympy import lambdify"
   ]
  },
  {
   "cell_type": "code",
   "execution_count": 41,
   "metadata": {},
   "outputs": [],
   "source": [
    "fp = sp.diff(ff, xx)\n",
    "fpn = lambdify(xx, fp)"
   ]
  },
  {
   "cell_type": "code",
   "execution_count": 43,
   "metadata": {},
   "outputs": [
    {
     "data": {
      "image/png": "[encoded data removed]",
      "text/latex": [
       "$$2.0$$"
      ],
      "text/plain": [
       "2.0"
      ]
     },
     "execution_count": 43,
     "metadata": {},
     "output_type": "execute_result"
    }
   ],
   "source": [
    "float(fpn(0))"
   ]
  },
  {
   "cell_type": "code",
   "execution_count": 46,
   "metadata": {},
   "outputs": [
    {
     "data": {
      "image/png": "[encoded data removed]",
      "text/latex": [
       "$$-0.416146836547$$"
      ],
      "text/plain": [
       "-0.416146836547"
      ]
     },
     "execution_count": 46,
     "metadata": {},
     "output_type": "execute_result"
    }
   ],
   "source": [
    "np.cos(fpn(0))"
   ]
  },
  {
   "cell_type": "code",
   "execution_count": 56,
   "metadata": {},
   "outputs": [
    {
     "data": {
      "text/plain": [
       "Text(0.5,1,'Error loglog plot numerical differenciation')"
      ]
     },
     "execution_count": 56,
     "metadata": {},
     "output_type": "execute_result"
    },
    {
     "data": {
      "image/png": "[encoded data removed]",
      "text/plain": [
       "<matplotlib.figure.Figure at 0x1188a6e10>"
      ]
     },
     "metadata": {},
     "output_type": "display_data"
    }
   ],
   "source": [
    "FD = [abs(t -fpn(0)) for t in [FD1, FD3, FD6] ]\n",
    "CD3 = [abs(t -fpn(0)) for t in [CD31, CD33, CD36] ]\n",
    "CD5 = [abs(t -fpn(0)) for t in [CD51, CD53, CD56] ]\n",
    "plt.loglog([1, 3, 6], FD, label='FD')\n",
    "plt.loglog([1, 3, 6], CD3, label='CD3')\n",
    "plt.loglog([1, 3, 6], CD5, label='CD5')\n",
    "plt.legend()\n",
    "plt.xlabel('$\\log (n)$')\n",
    "plt.ylabel('$\\log |error|$')\n",
    "plt.title('Error loglog plot numerical differenciation')"
   ]
  },
  {
   "cell_type": "code",
   "execution_count": 53,
   "metadata": {},
   "outputs": [
    {
     "data": {
      "image/png": "[encoded data removed]",
      "text/latex": [
       "$$\\left [ 2.50167264526e-05, \\quad 2.66675570515e-13, \\quad 0.0\\right ]$$"
      ],
      "text/plain": [
       "[2.50167264526e-05, 2.66675570515e-13, 0.0]"
      ]
     },
     "execution_count": 53,
     "metadata": {},
     "output_type": "execute_result"
    }
   ],
   "source": [
    "CD5"
   ]
  },
  {
   "cell_type": "code",
   "execution_count": 54,
   "metadata": {},
   "outputs": [
    {
     "data": {
      "image/png": "[encoded data removed]",
      "text/latex": [
       "$$2.0$$"
      ],
      "text/plain": [
       "2.0"
      ]
     },
     "execution_count": 54,
     "metadata": {},
     "output_type": "execute_result"
    }
   ],
   "source": [
    "CD56"
   ]
  },
  {
   "cell_type": "code",
   "execution_count": 57,
   "metadata": {},
   "outputs": [],
   "source": [
    "assert len(numerical_diff.__doc__) > 0"
   ]
  },
  {
   "cell_type": "code",
   "execution_count": 70,
   "metadata": {},
   "outputs": [],
   "source": [
    "from numpy import exp\n",
    "g = lambda x: exp(-x**2)\n",
    "gp =lambda x: -2*x * exp(-x**2)\n",
    "\n",
    "vrai_reponse = [[numerical_diff(g, 0, 10**(-n), t) for n in [1, 3, 6]] for t in [2, 3, 5]]\n",
    "#limitation machine precision\n",
    "reponse_eleve = [[numerical_diff(g, 0, 10**(-n), t) for n in [1, 3, 6]] for t in [2, 3, 5]]\n"
   ]
  },
  {
   "cell_type": "code",
   "execution_count": 81,
   "metadata": {},
   "outputs": [],
   "source": [
    "assert np.allclose(np.array(vrai_reponse), np.array(reponse_eleve), atol=1e-12) == True"
   ]
  },
  {
   "cell_type": "code",
   "execution_count": 65,
   "metadata": {},
   "outputs": [
    {
     "data": {
      "image/png": "[encoded data removed]",
      "text/latex": [
       "$$0.0$$"
      ],
      "text/plain": [
       "0.0"
      ]
     },
     "execution_count": 65,
     "metadata": {},
     "output_type": "execute_result"
    }
   ],
   "source": [
    "h = 10**(-6)\n",
    "(-g(2*h) + g(-2*h) + 8*g(h) - 8*g(-h)) /(12*h)"
   ]
  },
  {
   "cell_type": "code",
   "execution_count": 68,
   "metadata": {},
   "outputs": [
    {
     "data": {
      "image/png": "[encoded data removed]",
      "text/latex": [
       "$$3.33066907388e-16$$"
      ],
      "text/plain": [
       "3.33066907388e-16"
      ]
     },
     "execution_count": 68,
     "metadata": {},
     "output_type": "execute_result"
    }
   ],
   "source": [
    "x0 =0\n",
    "(-g(x0+2*h) + 8*g(x0+h) - 8*g(x0-h) + g(x0-2*h))"
   ]
  },
  {
   "cell_type": "code",
   "execution_count": 69,
   "metadata": {},
   "outputs": [
    {
     "data": {
      "image/png": "[encoded data removed]",
      "text/latex": [
       "$$1.2e-05$$"
      ],
      "text/plain": [
       "1.2e-05"
      ]
     },
     "execution_count": 69,
     "metadata": {},
     "output_type": "execute_result"
    }
   ],
   "source": [
    "12*h"
   ]
  },
  {
   "cell_type": "code",
   "execution_count": null,
   "metadata": {},
   "outputs": [],
   "source": []
  }
 ],
 "metadata": {
  "kernelspec": {
   "display_name": "Python [default]",
   "language": "python",
   "name": "python3"
  },
  "language_info": {
   "codemirror_mode": {
    "name": "ipython",
    "version": 3
   },
   "file_extension": ".py",
   "mimetype": "text/x-python",
   "name": "python",
   "nbconvert_exporter": "python",
   "pygments_lexer": "ipython3",
   "version": "3.6.4"
  }
 },
 "nbformat": 4,
 "nbformat_minor": 2
}
