{
 "cells": [
  {
   "cell_type": "markdown",
   "metadata": {},
   "source": [
    "# Math 131 Assignment 2: Lagrange interpolant"
   ]
  },
  {
   "cell_type": "markdown",
   "metadata": {},
   "source": [
    "## Exercise 1: Lagrange interpolant"
   ]
  },
  {
   "cell_type": "code",
   "execution_count": 1,
   "metadata": {},
   "outputs": [],
   "source": [
    "%matplotlib inline"
   ]
  },
  {
   "cell_type": "code",
   "execution_count": 2,
   "metadata": {
    "collapsed": true
   },
   "outputs": [],
   "source": [
    "import numpy as np\n",
    "from matplotlib import pyplot as plt\n",
    "from numpy import exp"
   ]
  },
  {
   "cell_type": "code",
   "execution_count": 19,
   "metadata": {
    "collapsed": true
   },
   "outputs": [],
   "source": [
    "def lagrange_poly(x, datx, daty):\n",
    "    '''\n",
    "    Lagrange interpolant ...\n",
    "    '''\n",
    "    N = len(datx)\n",
    "    L = np.ones((len(x),N)) #list that contains anything, size of each element can vary\n",
    "    for i in range(N):\n",
    "        for j in range(N):\n",
    "            if i != j:\n",
    "                L[:,i] = L[:,i] * (x - datx[j]) / (datx[i]-datx[j])\n",
    "    y = np.zeros((len(x)))\n",
    "    #print(L.shape)\n",
    "    for k in range(N):\n",
    "        y = y + daty[k]*L[:,k]\n",
    "    return y\n",
    "          "
   ]
  },
  {
   "cell_type": "code",
   "execution_count": 20,
   "metadata": {},
   "outputs": [
    {
     "name": "stdout",
     "output_type": "stream",
     "text": [
      "(601,)\n"
     ]
    }
   ],
   "source": [
    "f1 = lambda x: exp(-x**2)\n",
    "datx = np.arange(-3, 3.1, 1) # ATTENTION !! needs to change the upper bound if one wants point included\n",
    "daty = f1(datx)\n",
    "x = np.arange(-3, 3.0001, 0.01)\n",
    "print(x.shape)\n",
    "P1 = lagrange_poly(x,datx,daty)"
   ]
  },
  {
   "cell_type": "code",
   "execution_count": 37,
   "metadata": {},
   "outputs": [
    {
     "data": {
      "text/plain": [
       "<matplotlib.collections.PathCollection at 0x1180adba8>"
      ]
     },
     "execution_count": 37,
     "metadata": {},
     "output_type": "execute_result"
    },
    {
     "data": {
      "image/png": "[encoded data removed]",
      "text/plain": [
       "<matplotlib.figure.Figure at 0x11839ecc0>"
      ]
     },
     "metadata": {},
     "output_type": "display_data"
    }
   ],
   "source": [
    "fig, ((ax1, ax2), (ax3, ax4)) = plt.subplots(2,2)\n",
    "ax1.plot(x,f1(x))\n",
    "ax2.plot(x,P1,'--')\n",
    "ax3.scatter(datx,daty)"
   ]
  },
  {
   "cell_type": "code",
   "execution_count": 22,
   "metadata": {},
   "outputs": [
    {
     "data": {
      "text/plain": [
       "False"
      ]
     },
     "execution_count": 22,
     "metadata": {},
     "output_type": "execute_result"
    }
   ],
   "source": [
    "0.1+0.2 == 0.3"
   ]
  },
  {
   "cell_type": "code",
   "execution_count": 23,
   "metadata": {},
   "outputs": [],
   "source": [
    "def myrange(start, stop , step):\n",
    "    return np.linspace(start, stop, int(((stop-start) / step) + 1))"
   ]
  },
  {
   "cell_type": "code",
   "execution_count": 24,
   "metadata": {},
   "outputs": [
    {
     "data": {
      "text/plain": [
       "array([  0.,   1.,   2.,   3.,   4.,   5.,   6.,   7.,   8.,   9.,  10.])"
      ]
     },
     "execution_count": 24,
     "metadata": {},
     "output_type": "execute_result"
    }
   ],
   "source": [
    "myrange(0, 10, 1)"
   ]
  },
  {
   "cell_type": "markdown",
   "metadata": {},
   "source": [
    "## Assessments"
   ]
  },
  {
   "cell_type": "code",
   "execution_count": 25,
   "metadata": {
    "collapsed": true
   },
   "outputs": [],
   "source": [
    "assert len(lagrange_poly.__doc__)>0"
   ]
  },
  {
   "cell_type": "code",
   "execution_count": 26,
   "metadata": {},
   "outputs": [],
   "source": [
    "assert lagrange_poly(x,datx,daty)[0] == exp(-9) "
   ]
  },
  {
   "cell_type": "code",
   "execution_count": 28,
   "metadata": {},
   "outputs": [
    {
     "data": {
      "text/plain": [
       "[<matplotlib.lines.Line2D at 0x116d51128>]"
      ]
     },
     "execution_count": 28,
     "metadata": {},
     "output_type": "execute_result"
    },
    {
     "data": {
      "image/png": "[encoded data removed]",
      "text/plain": [
       "<matplotlib.figure.Figure at 0x116d51550>"
      ]
     },
     "metadata": {},
     "output_type": "display_data"
    }
   ],
   "source": [
    "f3 = lambda x: x**3 + 1\n",
    "P2 = lagrange_poly(x,datx,f3(datx))\n",
    "plt.plot(x,f3(x))\n",
    "plt.plot(x,P2,'--')"
   ]
  },
  {
   "cell_type": "code",
   "execution_count": 33,
   "metadata": {},
   "outputs": [],
   "source": [
    "assert all(np.isclose(P2,f3(x)))"
   ]
  },
  {
   "cell_type": "code",
   "execution_count": null,
   "metadata": {
    "collapsed": true
   },
   "outputs": [],
   "source": [
    "np.isclose"
   ]
  },
  {
   "cell_type": "markdown",
   "metadata": {},
   "source": [
    "# Exercise 2: Newton's divided differences"
   ]
  },
  {
   "cell_type": "code",
   "execution_count": 126,
   "metadata": {
    "collapsed": true
   },
   "outputs": [],
   "source": [
    "import functools \n",
    "\n",
    "def newtons_divided_differences(x,datx,daty):\n",
    "    '''\n",
    "    doc to do\n",
    "    '''\n",
    "    @functools.lru_cache() #least recently used\n",
    "    def F(i,k):\n",
    "        # access to datx, daty\n",
    "        if k == 0: \n",
    "            return daty[i]\n",
    "        else:\n",
    "            return (F(i+1,k-1) - F(i, k-1)) / (datx[i+k]-datx[i])\n",
    "        \n",
    "    ssum = np.zeros(len(x))\n",
    "#     for i in range(0, 7): \n",
    "#         print('---')\n",
    "#         for j in range(0, 7):\n",
    "#             try:\n",
    "#                 print(F(i,j))\n",
    "#             except: \n",
    "#                 pass\n",
    "\n",
    "\n",
    "    for k in range(1,len(datx)+1):\n",
    "        G = np.ones(len(x))\n",
    "        for j in range(k-1):\n",
    "            G = G * (x - datx[j])\n",
    "        truc = G * F(0,k-1)\n",
    "        ssum = ssum + truc\n",
    "    return ssum, F\n",
    "        \n",
    "        "
   ]
  },
  {
   "cell_type": "code",
   "execution_count": null,
   "metadata": {},
   "outputs": [],
   "source": [
    "# for k in range(len(datx)):\n",
    "#     ...\n",
    "#     f(datx[k])\n",
    "    \n",
    "# for dk in datx:\n",
    "#     ...\n",
    "#     f(dk)"
   ]
  },
  {
   "cell_type": "code",
   "execution_count": 127,
   "metadata": {},
   "outputs": [
    {
     "data": {
      "text/plain": [
       "0.018192229084647498"
      ]
     },
     "execution_count": 127,
     "metadata": {},
     "output_type": "execute_result"
    }
   ],
   "source": [
    "P3,F = newtons_divided_differences(x,datx,f1(datx))\n",
    "(exp(-4)-exp(-9))\n"
   ]
  },
  {
   "cell_type": "code",
   "execution_count": null,
   "metadata": {
    "collapsed": true
   },
   "outputs": [],
   "source": []
  },
  {
   "cell_type": "code",
   "execution_count": 129,
   "metadata": {},
   "outputs": [
    {
     "data": {
      "text/plain": [
       "<matplotlib.collections.PathCollection at 0x118e59518>"
      ]
     },
     "execution_count": 129,
     "metadata": {},
     "output_type": "execute_result"
    },
    {
     "data": {
      "image/png": "[encoded data removed]",
      "text/plain": [
       "<matplotlib.figure.Figure at 0x118ee5d30>"
      ]
     },
     "metadata": {},
     "output_type": "display_data"
    }
   ],
   "source": [
    "plt.plot(x,P1)\n",
    "plt.plot(x,P3,'--')\n",
    "plt.scatter(datx,f1(datx))\n"
   ]
  },
  {
   "cell_type": "code",
   "execution_count": null,
   "metadata": {
    "collapsed": true
   },
   "outputs": [],
   "source": []
  },
  {
   "cell_type": "code",
   "execution_count": null,
   "metadata": {
    "collapsed": true
   },
   "outputs": [],
   "source": []
  }
 ],
 "metadata": {
  "anaconda-cloud": {},
  "kernelspec": {
   "display_name": "Python [default]",
   "language": "python",
   "name": "python3"
  },
  "language_info": {
   "codemirror_mode": {
    "name": "ipython",
    "version": 3
   },
   "file_extension": ".py",
   "mimetype": "text/x-python",
   "name": "python",
   "nbconvert_exporter": "python",
   "pygments_lexer": "ipython3",
   "version": "3.6.4"
  }
 },
 "nbformat": 4,
 "nbformat_minor": 2
}
